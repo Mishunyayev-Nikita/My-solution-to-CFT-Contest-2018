{
 "cells": [
  {
   "cell_type": "markdown",
   "metadata": {},
   "source": [
    "# CFT2018 contest"
   ]
  },
  {
   "cell_type": "code",
   "execution_count": 1,
   "metadata": {
    "ExecuteTime": {
     "end_time": "2018-09-28T15:08:15.854467Z",
     "start_time": "2018-09-28T15:08:15.317837Z"
    },
    "collapsed": true
   },
   "outputs": [],
   "source": [
    "import pandas as pd\n",
    "import numpy as np\n",
    "\n",
    "from sklearn.feature_extraction.text import TfidfVectorizer\n",
    "from sklearn.preprocessing import StandardScaler\n",
    "from scipy.sparse import hstack, csr_matrix\n",
    "\n",
    "import gc\n",
    "import os\n",
    "import pickle"
   ]
  },
  {
   "cell_type": "code",
   "execution_count": 2,
   "metadata": {
    "collapsed": true
   },
   "outputs": [],
   "source": [
    "PATH_TO_DATA = ('D:/Py/DataFrames/CFT_Contest(Datasouls)/')"
   ]
  },
  {
   "cell_type": "code",
   "execution_count": 3,
   "metadata": {
    "ExecuteTime": {
     "end_time": "2018-09-28T15:08:26.273114Z",
     "start_time": "2018-09-28T15:08:15.857122Z"
    },
    "scrolled": true
   },
   "outputs": [
    {
     "name": "stdout",
     "output_type": "stream",
     "text": [
      "(1991104, 5)\n"
     ]
    }
   ],
   "source": [
    "train = pd.read_csv(os.path.join(PATH_TO_DATA, 'train.csv'))\n",
    "test = pd.read_csv(os.path.join(PATH_TO_DATA, 'test.csv'))\n",
    "\n",
    "y_train = train['target'].values\n",
    "print(train.shape)"
   ]
  },
  {
   "cell_type": "markdown",
   "metadata": {},
   "source": [
    "---"
   ]
  },
  {
   "cell_type": "code",
   "execution_count": 4,
   "metadata": {},
   "outputs": [
    {
     "data": {
      "text/html": [
       "<div>\n",
       "<style scoped>\n",
       "    .dataframe tbody tr th:only-of-type {\n",
       "        vertical-align: middle;\n",
       "    }\n",
       "\n",
       "    .dataframe tbody tr th {\n",
       "        vertical-align: top;\n",
       "    }\n",
       "\n",
       "    .dataframe thead th {\n",
       "        text-align: right;\n",
       "    }\n",
       "</style>\n",
       "<table border=\"1\" class=\"dataframe\">\n",
       "  <thead>\n",
       "    <tr style=\"text-align: right;\">\n",
       "      <th></th>\n",
       "      <th>id</th>\n",
       "      <th>fullname</th>\n",
       "      <th>country</th>\n",
       "      <th>target</th>\n",
       "      <th>fullname_true</th>\n",
       "    </tr>\n",
       "  </thead>\n",
       "  <tbody>\n",
       "    <tr>\n",
       "      <th>0</th>\n",
       "      <td>0</td>\n",
       "      <td>AKHMEDOV YGURIY</td>\n",
       "      <td>РОССИЯ</td>\n",
       "      <td>1</td>\n",
       "      <td>AKHMEDOV YURIY</td>\n",
       "    </tr>\n",
       "    <tr>\n",
       "      <th>1</th>\n",
       "      <td>1</td>\n",
       "      <td>ФОЗИЛОВ РАМИЛЬ ГУЛЛОВИЧ</td>\n",
       "      <td>РОССИЯ</td>\n",
       "      <td>1</td>\n",
       "      <td>ФОЗИЛОВ РАМИЛЬ ГУЛОВИЧ</td>\n",
       "    </tr>\n",
       "    <tr>\n",
       "      <th>2</th>\n",
       "      <td>2</td>\n",
       "      <td>ГОИБОВ АХЛИДДИН ШАМСУДИНОВИЧ</td>\n",
       "      <td>РОССИЯ</td>\n",
       "      <td>0</td>\n",
       "      <td>NaN</td>\n",
       "    </tr>\n",
       "  </tbody>\n",
       "</table>\n",
       "</div>"
      ],
      "text/plain": [
       "   id                      fullname country  target           fullname_true\n",
       "0   0               AKHMEDOV YGURIY  РОССИЯ       1          AKHMEDOV YURIY\n",
       "1   1       ФОЗИЛОВ РАМИЛЬ ГУЛЛОВИЧ  РОССИЯ       1  ФОЗИЛОВ РАМИЛЬ ГУЛОВИЧ\n",
       "2   2  ГОИБОВ АХЛИДДИН ШАМСУДИНОВИЧ  РОССИЯ       0                     NaN"
      ]
     },
     "execution_count": 4,
     "metadata": {},
     "output_type": "execute_result"
    }
   ],
   "source": [
    "train.head(3)"
   ]
  },
  {
   "cell_type": "code",
   "execution_count": 5,
   "metadata": {
    "scrolled": true
   },
   "outputs": [
    {
     "data": {
      "text/html": [
       "<div>\n",
       "<style scoped>\n",
       "    .dataframe tbody tr th:only-of-type {\n",
       "        vertical-align: middle;\n",
       "    }\n",
       "\n",
       "    .dataframe tbody tr th {\n",
       "        vertical-align: top;\n",
       "    }\n",
       "\n",
       "    .dataframe thead th {\n",
       "        text-align: right;\n",
       "    }\n",
       "</style>\n",
       "<table border=\"1\" class=\"dataframe\">\n",
       "  <thead>\n",
       "    <tr style=\"text-align: right;\">\n",
       "      <th></th>\n",
       "      <th>id</th>\n",
       "      <th>fullname</th>\n",
       "      <th>country</th>\n",
       "    </tr>\n",
       "  </thead>\n",
       "  <tbody>\n",
       "    <tr>\n",
       "      <th>0</th>\n",
       "      <td>0</td>\n",
       "      <td>ХУДАШКУРОВА ГУЛЗХОДА БЕРДИЕВНА</td>\n",
       "      <td>УЗБЕКИСТАН</td>\n",
       "    </tr>\n",
       "    <tr>\n",
       "      <th>1</th>\n",
       "      <td>1</td>\n",
       "      <td>СВЕЖЕТЬФЛОГИСТОН АРСЕН</td>\n",
       "      <td>РОССИЯ</td>\n",
       "    </tr>\n",
       "    <tr>\n",
       "      <th>2</th>\n",
       "      <td>2</td>\n",
       "      <td>ГУЛОМОВА СОЖИДА САНАЕВНА</td>\n",
       "      <td>УЗБЕКИСТАН</td>\n",
       "    </tr>\n",
       "  </tbody>\n",
       "</table>\n",
       "</div>"
      ],
      "text/plain": [
       "   id                        fullname     country\n",
       "0   0  ХУДАШКУРОВА ГУЛЗХОДА БЕРДИЕВНА  УЗБЕКИСТАН\n",
       "1   1          СВЕЖЕТЬФЛОГИСТОН АРСЕН      РОССИЯ\n",
       "2   2        ГУЛОМОВА СОЖИДА САНАЕВНА  УЗБЕКИСТАН"
      ]
     },
     "execution_count": 5,
     "metadata": {},
     "output_type": "execute_result"
    }
   ],
   "source": [
    "test.head(3)"
   ]
  },
  {
   "cell_type": "code",
   "execution_count": 10,
   "metadata": {
    "collapsed": true
   },
   "outputs": [],
   "source": [
    "only_countries_in_train = [v for v in train['country'].unique() if v not in test['country'].unique()]\n",
    "only_countries_in_test = [v for v in test['country'].unique() if v not in train['country'].unique()]"
   ]
  },
  {
   "cell_type": "code",
   "execution_count": 15,
   "metadata": {},
   "outputs": [
    {
     "name": "stdout",
     "output_type": "stream",
     "text": [
      "All countires in train: 1281\n",
      "Unique countires in train: 506\n",
      "All countires in test: 1644\n",
      "Unique countires in test: 869\n"
     ]
    }
   ],
   "source": [
    "print('All countires in train:', len(train['country'].unique()))\n",
    "print('Unique countires in train:', len(only_countries_in_train))\n",
    "print('All countires in test:', len(test['country'].unique()))\n",
    "print('Unique countires in test:', len(only_countries_in_test))"
   ]
  },
  {
   "cell_type": "markdown",
   "metadata": {},
   "source": [
    "### Features engineering"
   ]
  },
  {
   "cell_type": "code",
   "execution_count": 4,
   "metadata": {
    "collapsed": true
   },
   "outputs": [],
   "source": [
    "train_features = pd.DataFrame()\n",
    "test_features = pd.DataFrame()"
   ]
  },
  {
   "cell_type": "code",
   "execution_count": 5,
   "metadata": {
    "collapsed": true
   },
   "outputs": [],
   "source": [
    "def get_alphabet(FIO, language='ru'):\n",
    "    counter = 0\n",
    "    \n",
    "    if language == 'ru':    \n",
    "        for letter in FIO:\n",
    "            if letter in 'АБВГДЕЁЖЗИЙКЛМНОПРСТУФХЦЧШЩЪЫЬЭЮЯ':\n",
    "                counter += 1\n",
    "                break\n",
    "                \n",
    "    elif language == 'en':    \n",
    "        for letter in FIO:\n",
    "            if letter in 'ABCDEFGHIJKLMNOPQRSTUVWXYZ':\n",
    "                counter += 1\n",
    "                break\n",
    "                \n",
    "    elif language == 'symbols':    \n",
    "        for letter in FIO:\n",
    "            if letter not in ('АБВГДЕЁЖЗИЙКЛМНОПРСТУФХЦЧШЩЪЫЬЭЮЯABCDEFGHIJKLMNOPQRSTUVWXYZ'):\n",
    "                if letter != ' ':\n",
    "                    counter += 1\n",
    "                \n",
    "    return counter"
   ]
  },
  {
   "cell_type": "code",
   "execution_count": 6,
   "metadata": {
    "collapsed": true
   },
   "outputs": [],
   "source": [
    "train_features['fullname_len'] = train['fullname'].apply(lambda x: len(str(x)))\n",
    "train_features['fullname_num_words'] = train['fullname'].apply(lambda x: len(x.split()))\n",
    "train_features['country_len'] = train['country'].apply(lambda x: len(str(x)))\n",
    "train_features['country_num_words'] = train['country'].apply(lambda x: len(x.split()))\n",
    "train_features['fullname_num_words_vs_len'] = train_features['fullname_num_words'] / train_features['fullname_len']\n",
    "\n",
    "test_features['fullname_len'] = test['fullname'].apply(lambda x: len(str(x)))\n",
    "test_features['fullname_num_words'] = test['fullname'].apply(lambda x: len(x.split()))\n",
    "test_features['country_len'] = test['country'].apply(lambda x: len(str(x)))\n",
    "test_features['country_num_words'] = test['country'].apply(lambda x: len(x.split()))\n",
    "test_features['fullname_num_words_vs_len'] = test_features['fullname_num_words'] / test_features['fullname_len']"
   ]
  },
  {
   "cell_type": "code",
   "execution_count": 7,
   "metadata": {
    "collapsed": true
   },
   "outputs": [],
   "source": [
    "train_features['ru_name'] = train['fullname'].apply(lambda x: get_alphabet(x, language='ru'))\n",
    "train_features['ru_country'] = train['country'].apply(lambda x: get_alphabet(x, language='ru'))\n",
    "train_features['en_name'] = train['fullname'].apply(lambda x: get_alphabet(x, language='en'))\n",
    "train_features['en_country'] = train['country'].apply(lambda x: get_alphabet(x, language='en'))\n",
    "train_features['symbols_in_name'] = train['fullname'].apply(lambda x: get_alphabet(x, language='symbols'))\n",
    "\n",
    "test_features['ru_name'] = test['fullname'].apply(lambda x: get_alphabet(x, language='ru'))\n",
    "test_features['ru_country'] = test['country'].apply(lambda x: get_alphabet(x, language='ru'))\n",
    "test_features['en_name'] = test['fullname'].apply(lambda x: get_alphabet(x, language='en'))\n",
    "test_features['en_country'] = test['country'].apply(lambda x: get_alphabet(x, language='en'))\n",
    "test_features['symbols_in_name'] = test['fullname'].apply(lambda x: get_alphabet(x, language='symbols'))"
   ]
  },
  {
   "cell_type": "code",
   "execution_count": 9,
   "metadata": {
    "scrolled": true
   },
   "outputs": [
    {
     "data": {
      "text/html": [
       "<div>\n",
       "<style scoped>\n",
       "    .dataframe tbody tr th:only-of-type {\n",
       "        vertical-align: middle;\n",
       "    }\n",
       "\n",
       "    .dataframe tbody tr th {\n",
       "        vertical-align: top;\n",
       "    }\n",
       "\n",
       "    .dataframe thead th {\n",
       "        text-align: right;\n",
       "    }\n",
       "</style>\n",
       "<table border=\"1\" class=\"dataframe\">\n",
       "  <thead>\n",
       "    <tr style=\"text-align: right;\">\n",
       "      <th></th>\n",
       "      <th>fullname_len</th>\n",
       "      <th>fullname_num_words</th>\n",
       "      <th>country_len</th>\n",
       "      <th>country_num_words</th>\n",
       "      <th>fullname_num_words_vs_len</th>\n",
       "      <th>ru_name</th>\n",
       "      <th>ru_country</th>\n",
       "      <th>en_name</th>\n",
       "      <th>en_country</th>\n",
       "      <th>symbols_in_name</th>\n",
       "    </tr>\n",
       "  </thead>\n",
       "  <tbody>\n",
       "    <tr>\n",
       "      <th>0</th>\n",
       "      <td>15</td>\n",
       "      <td>2</td>\n",
       "      <td>6</td>\n",
       "      <td>1</td>\n",
       "      <td>0.133333</td>\n",
       "      <td>0</td>\n",
       "      <td>1</td>\n",
       "      <td>1</td>\n",
       "      <td>0</td>\n",
       "      <td>0</td>\n",
       "    </tr>\n",
       "    <tr>\n",
       "      <th>1</th>\n",
       "      <td>23</td>\n",
       "      <td>3</td>\n",
       "      <td>6</td>\n",
       "      <td>1</td>\n",
       "      <td>0.130435</td>\n",
       "      <td>1</td>\n",
       "      <td>1</td>\n",
       "      <td>0</td>\n",
       "      <td>0</td>\n",
       "      <td>0</td>\n",
       "    </tr>\n",
       "    <tr>\n",
       "      <th>2</th>\n",
       "      <td>28</td>\n",
       "      <td>3</td>\n",
       "      <td>6</td>\n",
       "      <td>1</td>\n",
       "      <td>0.107143</td>\n",
       "      <td>1</td>\n",
       "      <td>1</td>\n",
       "      <td>0</td>\n",
       "      <td>0</td>\n",
       "      <td>0</td>\n",
       "    </tr>\n",
       "  </tbody>\n",
       "</table>\n",
       "</div>"
      ],
      "text/plain": [
       "   fullname_len  fullname_num_words  country_len  country_num_words  \\\n",
       "0            15                   2            6                  1   \n",
       "1            23                   3            6                  1   \n",
       "2            28                   3            6                  1   \n",
       "\n",
       "   fullname_num_words_vs_len  ru_name  ru_country  en_name  en_country  \\\n",
       "0                   0.133333        0           1        1           0   \n",
       "1                   0.130435        1           1        0           0   \n",
       "2                   0.107143        1           1        0           0   \n",
       "\n",
       "   symbols_in_name  \n",
       "0                0  \n",
       "1                0  \n",
       "2                0  "
      ]
     },
     "execution_count": 9,
     "metadata": {},
     "output_type": "execute_result"
    }
   ],
   "source": [
    "train_features.head(3)"
   ]
  },
  {
   "cell_type": "code",
   "execution_count": 10,
   "metadata": {},
   "outputs": [
    {
     "data": {
      "text/html": [
       "<div>\n",
       "<style scoped>\n",
       "    .dataframe tbody tr th:only-of-type {\n",
       "        vertical-align: middle;\n",
       "    }\n",
       "\n",
       "    .dataframe tbody tr th {\n",
       "        vertical-align: top;\n",
       "    }\n",
       "\n",
       "    .dataframe thead th {\n",
       "        text-align: right;\n",
       "    }\n",
       "</style>\n",
       "<table border=\"1\" class=\"dataframe\">\n",
       "  <thead>\n",
       "    <tr style=\"text-align: right;\">\n",
       "      <th></th>\n",
       "      <th>fullname_len</th>\n",
       "      <th>fullname_num_words</th>\n",
       "      <th>country_len</th>\n",
       "      <th>country_num_words</th>\n",
       "      <th>fullname_num_words_vs_len</th>\n",
       "      <th>ru_name</th>\n",
       "      <th>ru_country</th>\n",
       "      <th>en_name</th>\n",
       "      <th>en_country</th>\n",
       "      <th>symbols_in_name</th>\n",
       "    </tr>\n",
       "  </thead>\n",
       "  <tbody>\n",
       "    <tr>\n",
       "      <th>0</th>\n",
       "      <td>30</td>\n",
       "      <td>3</td>\n",
       "      <td>10</td>\n",
       "      <td>1</td>\n",
       "      <td>0.100000</td>\n",
       "      <td>1</td>\n",
       "      <td>1</td>\n",
       "      <td>0</td>\n",
       "      <td>0</td>\n",
       "      <td>0</td>\n",
       "    </tr>\n",
       "    <tr>\n",
       "      <th>1</th>\n",
       "      <td>22</td>\n",
       "      <td>2</td>\n",
       "      <td>6</td>\n",
       "      <td>1</td>\n",
       "      <td>0.090909</td>\n",
       "      <td>1</td>\n",
       "      <td>1</td>\n",
       "      <td>0</td>\n",
       "      <td>0</td>\n",
       "      <td>0</td>\n",
       "    </tr>\n",
       "    <tr>\n",
       "      <th>2</th>\n",
       "      <td>24</td>\n",
       "      <td>3</td>\n",
       "      <td>10</td>\n",
       "      <td>1</td>\n",
       "      <td>0.125000</td>\n",
       "      <td>1</td>\n",
       "      <td>1</td>\n",
       "      <td>0</td>\n",
       "      <td>0</td>\n",
       "      <td>0</td>\n",
       "    </tr>\n",
       "  </tbody>\n",
       "</table>\n",
       "</div>"
      ],
      "text/plain": [
       "   fullname_len  fullname_num_words  country_len  country_num_words  \\\n",
       "0            30                   3           10                  1   \n",
       "1            22                   2            6                  1   \n",
       "2            24                   3           10                  1   \n",
       "\n",
       "   fullname_num_words_vs_len  ru_name  ru_country  en_name  en_country  \\\n",
       "0                   0.100000        1           1        0           0   \n",
       "1                   0.090909        1           1        0           0   \n",
       "2                   0.125000        1           1        0           0   \n",
       "\n",
       "   symbols_in_name  \n",
       "0                0  \n",
       "1                0  \n",
       "2                0  "
      ]
     },
     "execution_count": 10,
     "metadata": {},
     "output_type": "execute_result"
    }
   ],
   "source": [
    "test_features.head(3)"
   ]
  },
  {
   "cell_type": "code",
   "execution_count": 4,
   "metadata": {
    "ExecuteTime": {
     "end_time": "2018-09-28T15:09:08.156692Z",
     "start_time": "2018-09-28T15:08:27.051085Z"
    }
   },
   "outputs": [
    {
     "name": "stdout",
     "output_type": "stream",
     "text": [
      "(1991104, 80000)\n",
      "Wall time: 1min 22s\n"
     ]
    }
   ],
   "source": [
    "%%time\n",
    "vectorizer_word = TfidfVectorizer(analyzer='word', ngram_range=(1, 1), max_features=100000)\n",
    "\n",
    "train_word = vectorizer_word.fit_transform(train.fullname)\n",
    "test_word = vectorizer_word.transform(test.fullname)\n",
    "\n",
    "print(train_word.shape)"
   ]
  },
  {
   "cell_type": "code",
   "execution_count": 5,
   "metadata": {
    "ExecuteTime": {
     "end_time": "2018-09-28T15:11:05.673165Z",
     "start_time": "2018-09-28T15:09:08.159075Z"
    }
   },
   "outputs": [
    {
     "name": "stdout",
     "output_type": "stream",
     "text": [
      "Триграммы: (1991104, 55998)\n",
      "Биграммы: (1991104, 2342)\n",
      "Wall time: 7min 50s\n"
     ]
    }
   ],
   "source": [
    "%%time\n",
    "vectorizer_char = TfidfVectorizer(analyzer='char', ngram_range=(3, 3))\n",
    "vectorizer_char_2 = TfidfVectorizer(analyzer='char', ngram_range=(2, 2))\n",
    "\n",
    "train_char = vectorizer_char.fit_transform(train.fullname)\n",
    "test_char = vectorizer_char.transform(test.fullname)\n",
    "\n",
    "train_char_2 = vectorizer_char_2.fit_transform(train.fullname)\n",
    "test_char_2 = vectorizer_char_2.transform(test.fullname)\n",
    "\n",
    "print(\"Триграммы:\", train_char.shape)\n",
    "print(\"Биграммы:\", train_char_2.shape)"
   ]
  },
  {
   "cell_type": "code",
   "execution_count": 6,
   "metadata": {
    "ExecuteTime": {
     "end_time": "2018-09-28T15:11:05.673165Z",
     "start_time": "2018-09-28T15:09:08.159075Z"
    }
   },
   "outputs": [
    {
     "name": "stdout",
     "output_type": "stream",
     "text": [
      "Триграммы: (1991104, 3074)\n",
      "Wall time: 1min 7s\n"
     ]
    }
   ],
   "source": [
    "%%time\n",
    "train_country_char = vectorizer_char.fit_transform(train.country)\n",
    "test_country_char = vectorizer_char.transform(test.country)\n",
    "\n",
    "print(\"Триграммы:\", train_country_char.shape)"
   ]
  },
  {
   "cell_type": "code",
   "execution_count": 10,
   "metadata": {},
   "outputs": [
    {
     "data": {
      "text/plain": [
       "0"
      ]
     },
     "execution_count": 10,
     "metadata": {},
     "output_type": "execute_result"
    }
   ],
   "source": [
    "s_train = csr_matrix(hstack([train_word, train_char, train_char_2, train_country_char]))\n",
    "\n",
    "del train_word, train_char, train_char_2, train_country_char\n",
    "gc.collect()"
   ]
  },
  {
   "cell_type": "code",
   "execution_count": 11,
   "metadata": {},
   "outputs": [
    {
     "data": {
      "text/plain": [
       "0"
      ]
     },
     "execution_count": 11,
     "metadata": {},
     "output_type": "execute_result"
    }
   ],
   "source": [
    "s_test = csr_matrix(hstack([test_word, test_char, test_char_2, test_country_char]))\n",
    "\n",
    "del test_word, test_char, test_char_2, test_country_char\n",
    "gc.collect()"
   ]
  },
  {
   "cell_type": "markdown",
   "metadata": {},
   "source": [
    "### Save"
   ]
  },
  {
   "cell_type": "code",
   "execution_count": 10,
   "metadata": {},
   "outputs": [
    {
     "name": "stdout",
     "output_type": "stream",
     "text": [
      "1\n"
     ]
    }
   ],
   "source": [
    "scaler = StandardScaler(with_mean=False)\n",
    "train_features = scaler.fit_transform(train_features)\n",
    "test_features = scaler.transform(test_features)\n",
    "\n",
    "train_features = csr_matrix(train_features)\n",
    "test_features = csr_matrix(test_features)\n",
    "\n",
    "print(1)"
   ]
  },
  {
   "cell_type": "code",
   "execution_count": 11,
   "metadata": {
    "collapsed": true
   },
   "outputs": [],
   "source": [
    "# [DUMP] stat features\n",
    "with open(os.path.join(PATH_TO_DATA, 'train_features.pkl'), 'wb') as train_features_pkl:\n",
    "    pickle.dump(train_features, train_features_pkl, protocol=2)\n",
    "with open(os.path.join(PATH_TO_DATA, 'test_features.pkl'), 'wb') as test_features_pkl:\n",
    "    pickle.dump(test_features, test_features_pkl, protocol=2)"
   ]
  },
  {
   "cell_type": "code",
   "execution_count": 12,
   "metadata": {
    "collapsed": true
   },
   "outputs": [],
   "source": [
    "# [DUMP] TF-IDF pickle files\n",
    "with open(os.path.join(PATH_TO_DATA, 'train_tfidf.pkl'), 'wb') as train_tfidf_pkl:\n",
    "    pickle.dump(s_train, train_tfidf_pkl, protocol=2)\n",
    "with open(os.path.join(PATH_TO_DATA, 'test_tfidf.pkl'), 'wb') as test_tfidf_pkl:\n",
    "    pickle.dump(s_test, test_tfidf_pkl, protocol=2)"
   ]
  }
 ],
 "metadata": {
  "kernel_info": {
   "name": "python3"
  },
  "kernelspec": {
   "display_name": "Python 3",
   "language": "python",
   "name": "python3"
  },
  "language_info": {
   "codemirror_mode": {
    "name": "ipython",
    "version": 3
   },
   "file_extension": ".py",
   "mimetype": "text/x-python",
   "name": "python",
   "nbconvert_exporter": "python",
   "pygments_lexer": "ipython3",
   "version": "3.6.3"
  },
  "nteract": {
   "version": "0.11.7"
  }
 },
 "nbformat": 4,
 "nbformat_minor": 2
}
