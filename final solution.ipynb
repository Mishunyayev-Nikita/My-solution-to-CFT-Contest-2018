{
 "cells": [
  {
   "cell_type": "markdown",
   "metadata": {},
   "source": [
    "# CFT2018 contest submit"
   ]
  },
  {
   "cell_type": "code",
   "execution_count": 1,
   "metadata": {
    "ExecuteTime": {
     "end_time": "2018-09-28T15:08:15.854467Z",
     "start_time": "2018-09-28T15:08:15.317837Z"
    },
    "collapsed": true
   },
   "outputs": [],
   "source": [
    "import pandas as pd\n",
    "import numpy as np\n",
    "\n",
    "# pip install symspell - Для коррекции опечаток \n",
    "import symspellpy\n",
    "\n",
    "import os\n",
    "import gc\n",
    "import pickle"
   ]
  },
  {
   "cell_type": "code",
   "execution_count": 2,
   "metadata": {
    "collapsed": true
   },
   "outputs": [],
   "source": [
    "PATH_TO_DATA = ('D:/Py/DataFrames/CFT_Contest(Datasouls)/')"
   ]
  },
  {
   "cell_type": "markdown",
   "metadata": {},
   "source": [
    "Load data and best solo model predictions "
   ]
  },
  {
   "cell_type": "code",
   "execution_count": 3,
   "metadata": {
    "ExecuteTime": {
     "end_time": "2018-09-28T15:08:26.273114Z",
     "start_time": "2018-09-28T15:08:15.857122Z"
    },
    "collapsed": true
   },
   "outputs": [],
   "source": [
    "train = pd.read_csv(os.path.join(PATH_TO_DATA, 'train.csv'))\n",
    "test = pd.read_csv(os.path.join(PATH_TO_DATA, 'test.csv'))\n",
    "\n",
    "test_oof = pd.read_csv(os.path.join(PATH_TO_DATA, 'predictions/logreg_and_binary_preds_test.csv'))"
   ]
  },
  {
   "cell_type": "code",
   "execution_count": 6,
   "metadata": {
    "ExecuteTime": {
     "end_time": "2018-09-28T15:08:26.337147Z",
     "start_time": "2018-09-28T15:08:26.299567Z"
    }
   },
   "outputs": [],
   "source": [
    "test['target'] = np.argmax(test_oof.values, axis=1)"
   ]
  },
  {
   "cell_type": "code",
   "execution_count": 7,
   "metadata": {
    "ExecuteTime": {
     "end_time": "2018-09-28T15:08:26.359745Z",
     "start_time": "2018-09-28T15:08:26.340957Z"
    }
   },
   "outputs": [
    {
     "data": {
      "text/html": [
       "<div>\n",
       "<style scoped>\n",
       "    .dataframe tbody tr th:only-of-type {\n",
       "        vertical-align: middle;\n",
       "    }\n",
       "\n",
       "    .dataframe tbody tr th {\n",
       "        vertical-align: top;\n",
       "    }\n",
       "\n",
       "    .dataframe thead th {\n",
       "        text-align: right;\n",
       "    }\n",
       "</style>\n",
       "<table border=\"1\" class=\"dataframe\">\n",
       "  <thead>\n",
       "    <tr style=\"text-align: right;\">\n",
       "      <th></th>\n",
       "      <th>id</th>\n",
       "      <th>fullname</th>\n",
       "      <th>country</th>\n",
       "      <th>target</th>\n",
       "    </tr>\n",
       "  </thead>\n",
       "  <tbody>\n",
       "    <tr>\n",
       "      <th>0</th>\n",
       "      <td>0</td>\n",
       "      <td>ХУДАШКУРОВА ГУЛЗХОДА БЕРДИЕВНА</td>\n",
       "      <td>УЗБЕКИСТАН</td>\n",
       "      <td>1</td>\n",
       "    </tr>\n",
       "    <tr>\n",
       "      <th>1</th>\n",
       "      <td>1</td>\n",
       "      <td>СВЕЖЕТЬФЛОГИСТОН АРСЕН</td>\n",
       "      <td>РОССИЯ</td>\n",
       "      <td>2</td>\n",
       "    </tr>\n",
       "    <tr>\n",
       "      <th>2</th>\n",
       "      <td>2</td>\n",
       "      <td>ГУЛОМОВА СОЖИДА САНАЕВНА</td>\n",
       "      <td>УЗБЕКИСТАН</td>\n",
       "      <td>0</td>\n",
       "    </tr>\n",
       "    <tr>\n",
       "      <th>3</th>\n",
       "      <td>3</td>\n",
       "      <td>КАМПЫШЕВА ГУЛЯИМ БЕЙСЕМБАЕВНА</td>\n",
       "      <td>КАЗАХСТАН</td>\n",
       "      <td>0</td>\n",
       "    </tr>\n",
       "    <tr>\n",
       "      <th>4</th>\n",
       "      <td>4</td>\n",
       "      <td>OROSUMEBTOV MIRLAN</td>\n",
       "      <td>РОССИЯ</td>\n",
       "      <td>0</td>\n",
       "    </tr>\n",
       "  </tbody>\n",
       "</table>\n",
       "</div>"
      ],
      "text/plain": [
       "   id                        fullname     country  target\n",
       "0   0  ХУДАШКУРОВА ГУЛЗХОДА БЕРДИЕВНА  УЗБЕКИСТАН       1\n",
       "1   1          СВЕЖЕТЬФЛОГИСТОН АРСЕН      РОССИЯ       2\n",
       "2   2        ГУЛОМОВА СОЖИДА САНАЕВНА  УЗБЕКИСТАН       0\n",
       "3   3   КАМПЫШЕВА ГУЛЯИМ БЕЙСЕМБАЕВНА   КАЗАХСТАН       0\n",
       "4   4              OROSUMEBTOV MIRLAN      РОССИЯ       0"
      ]
     },
     "execution_count": 7,
     "metadata": {},
     "output_type": "execute_result"
    }
   ],
   "source": [
    "test.head()"
   ]
  },
  {
   "cell_type": "markdown",
   "metadata": {},
   "source": [
    "### Typos correction"
   ]
  },
  {
   "cell_type": "markdown",
   "metadata": {},
   "source": [
    "To correct typos, use the open-source library ([github](https://github.com/mammothb/symspellpy))."
   ]
  },
  {
   "cell_type": "code",
   "execution_count": 14,
   "metadata": {
    "ExecuteTime": {
     "end_time": "2018-09-28T15:21:16.572464Z",
     "start_time": "2018-09-28T15:21:16.557896Z"
    },
    "collapsed": true
   },
   "outputs": [],
   "source": [
    "symspell = symspellpy.SymSpell()"
   ]
  },
  {
   "cell_type": "markdown",
   "metadata": {
    "ExecuteTime": {
     "end_time": "2018-09-28T07:27:31.258328Z",
     "start_time": "2018-09-28T07:27:31.254121Z"
    }
   },
   "source": [
    "Prepare training sample (use only train correct full names!)"
   ]
  },
  {
   "cell_type": "code",
   "execution_count": 15,
   "metadata": {
    "ExecuteTime": {
     "end_time": "2018-09-28T15:21:20.522407Z",
     "start_time": "2018-09-28T15:21:16.578262Z"
    },
    "collapsed": true
   },
   "outputs": [],
   "source": [
    "train.loc[train.target != 1, 'fullname_true'] = train.loc[train.target != 1, 'fullname'] \n",
    "dicts = [name for person in train.fullname_true for name in person.split(' ')]\n",
    "\n",
    "from collections import Counter\n",
    "name_freq = Counter(dicts)"
   ]
  },
  {
   "cell_type": "code",
   "execution_count": 16,
   "metadata": {
    "ExecuteTime": {
     "end_time": "2018-09-28T15:21:20.963273Z",
     "start_time": "2018-09-28T15:21:20.525224Z"
    },
    "collapsed": true
   },
   "outputs": [],
   "source": [
    "with open('dictionary.txt', 'w') as f:\n",
    "    for name, freq in name_freq.items():\n",
    "        f.write('{} {}\\n'.format(name, freq))"
   ]
  },
  {
   "cell_type": "code",
   "execution_count": 17,
   "metadata": {
    "ExecuteTime": {
     "end_time": "2018-09-28T15:21:21.134454Z",
     "start_time": "2018-09-28T15:21:20.965844Z"
    },
    "scrolled": true
   },
   "outputs": [
    {
     "name": "stdout",
     "output_type": "stream",
     "text": [
      "AKHMEDOV 381\r\n",
      "YURIY 98\r\n",
      "ФОЗИЛОВ 783\r\n",
      "РАМИЛЬ 2383\r\n",
      "ГУЛОВИЧ 190\r\n",
      "ГОИБОВ 482\r\n",
      "АХЛИДДИН 753\r\n",
      "ШАМСУДИНОВИЧ 183\r\n",
      "ХУСНУТДИНОВА 42\r\n",
      "МАРГАРИТА 1923\r\n"
     ]
    }
   ],
   "source": [
    "!head dictionary.txt"
   ]
  },
  {
   "cell_type": "markdown",
   "metadata": {},
   "source": [
    "Load the dictionary and check accuracy on train data (overfitted!)"
   ]
  },
  {
   "cell_type": "code",
   "execution_count": 18,
   "metadata": {
    "ExecuteTime": {
     "end_time": "2018-09-28T15:22:26.990459Z",
     "start_time": "2018-09-28T15:21:21.137270Z"
    }
   },
   "outputs": [
    {
     "data": {
      "text/plain": [
       "True"
      ]
     },
     "execution_count": 18,
     "metadata": {},
     "output_type": "execute_result"
    }
   ],
   "source": [
    "symspell.load_dictionary('dictionary.txt', term_index=0, count_index=1)"
   ]
  },
  {
   "cell_type": "code",
   "execution_count": 19,
   "metadata": {
    "ExecuteTime": {
     "end_time": "2018-09-28T15:22:27.001643Z",
     "start_time": "2018-09-28T15:22:26.992818Z"
    },
    "collapsed": true
   },
   "outputs": [],
   "source": [
    "def correct(s):\n",
    "    def correct_word(w):\n",
    "        tmp = symspell.lookup(w, symspellpy.Verbosity.CLOSEST)\n",
    "        if len(tmp):\n",
    "            return tmp[0].term.upper()\n",
    "        else:\n",
    "            return w\n",
    "\n",
    "    return ' '.join([correct_word(word) for word in s.split(' ')])"
   ]
  },
  {
   "cell_type": "code",
   "execution_count": 20,
   "metadata": {
    "ExecuteTime": {
     "end_time": "2018-09-28T15:22:27.019884Z",
     "start_time": "2018-09-28T15:22:27.005197Z"
    }
   },
   "outputs": [
    {
     "name": "stdout",
     "output_type": "stream",
     "text": [
      "CPU times: user 1.85 ms, sys: 74 µs, total: 1.93 ms\n",
      "Wall time: 1.97 ms\n"
     ]
    },
    {
     "data": {
      "text/plain": [
       "'КАРАБОЗОВ ЛАТИФ АЛИМАМАДОВИЧ'"
      ]
     },
     "execution_count": 20,
     "metadata": {},
     "output_type": "execute_result"
    }
   ],
   "source": [
    "%%time\n",
    "correct('КАРАБОЗОВа ЛАТИФ АЛИМАМАДОВИЧ')"
   ]
  },
  {
   "cell_type": "code",
   "execution_count": 21,
   "metadata": {
    "ExecuteTime": {
     "end_time": "2018-09-28T15:36:03.752426Z",
     "start_time": "2018-09-28T15:22:27.023028Z"
    },
    "collapsed": true
   },
   "outputs": [],
   "source": [
    "train_1 = train.loc[train.target == 1].copy()\n",
    "train_1['fullname_corrected'] = train_1.fullname.apply(correct)"
   ]
  },
  {
   "cell_type": "code",
   "execution_count": 22,
   "metadata": {
    "ExecuteTime": {
     "end_time": "2018-09-28T15:36:03.932761Z",
     "start_time": "2018-09-28T15:36:03.754885Z"
    }
   },
   "outputs": [
    {
     "data": {
      "text/plain": [
       "0.8272597104120801"
      ]
     },
     "execution_count": 22,
     "metadata": {},
     "output_type": "execute_result"
    }
   ],
   "source": [
    "np.mean(train_1.fullname_true == train_1.fullname_corrected)"
   ]
  },
  {
   "cell_type": "markdown",
   "metadata": {},
   "source": [
    "Correct test samples and save our submission"
   ]
  },
  {
   "cell_type": "code",
   "execution_count": 23,
   "metadata": {
    "ExecuteTime": {
     "end_time": "2018-09-28T15:54:51.360225Z",
     "start_time": "2018-09-28T15:36:03.936022Z"
    },
    "collapsed": true
   },
   "outputs": [],
   "source": [
    "test['fullname_true'] = None\n",
    "test.loc[test.target == 1, 'fullname_true'] = test.loc[test.target == 1, 'fullname'].apply(correct)"
   ]
  },
  {
   "cell_type": "code",
   "execution_count": 24,
   "metadata": {
    "ExecuteTime": {
     "end_time": "2018-09-28T15:55:00.607087Z",
     "start_time": "2018-09-28T15:54:51.362423Z"
    },
    "collapsed": true
   },
   "outputs": [],
   "source": [
    "test[['id', 'target', 'fullname_true']].to_csv('final_submission.csv', index=False)"
   ]
  }
 ],
 "metadata": {
  "kernel_info": {
   "name": "python3"
  },
  "kernelspec": {
   "display_name": "Python 3",
   "language": "python",
   "name": "python3"
  },
  "language_info": {
   "codemirror_mode": {
    "name": "ipython",
    "version": 3
   },
   "file_extension": ".py",
   "mimetype": "text/x-python",
   "name": "python",
   "nbconvert_exporter": "python",
   "pygments_lexer": "ipython3",
   "version": "3.6.3"
  },
  "nteract": {
   "version": "0.11.7"
  }
 },
 "nbformat": 4,
 "nbformat_minor": 2
}
